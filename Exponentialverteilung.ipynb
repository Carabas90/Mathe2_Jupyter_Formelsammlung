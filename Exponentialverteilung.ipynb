{
 "metadata": {
  "language_info": {
   "codemirror_mode": {
    "name": "ipython",
    "version": 3
   },
   "file_extension": ".py",
   "mimetype": "text/x-python",
   "name": "python",
   "nbconvert_exporter": "python",
   "pygments_lexer": "ipython3",
   "version": "3.9.4"
  },
  "orig_nbformat": 2,
  "kernelspec": {
   "name": "python394jvsc74a57bd03f75a622fdbe68ac4774c6ea619d86cc770141a8bef94a85fce2870eb7cb09bf",
   "display_name": "Python 3.9.4 64-bit"
  }
 },
 "nbformat": 4,
 "nbformat_minor": 2,
 "cells": [
  {
   "source": [
    "# Exponentialverteilung\n"
   ],
   "cell_type": "markdown",
   "metadata": {}
  },
  {
   "cell_type": "code",
   "execution_count": 2,
   "metadata": {},
   "outputs": [],
   "source": [
    "delta = 0.5"
   ]
  },
  {
   "source": [
    "## Verteilungsfunktion und Dichtefunktion"
   ],
   "cell_type": "markdown",
   "metadata": {}
  },
  {
   "cell_type": "code",
   "execution_count": 4,
   "metadata": {},
   "outputs": [
    {
     "output_type": "stream",
     "name": "stdout",
     "text": [
      "Für x >= 0 gilt: \nf(x) = 0.5* e ^ -0.5x\nF(x) = 1 -  e ^ -0.5x\n"
     ]
    }
   ],
   "source": [
    "print(\"Für x >= 0 gilt: \")\n",
    "print(\"f(x) = \" + str(delta) + \"* e ^ -\" + str(delta) +\"x\")\n",
    "print(\"F(x) = 1 - \" +  \" e ^ -\" + str(delta) +\"x\")"
   ]
  },
  {
   "source": [
    "## Erwartungswert und Varianz"
   ],
   "cell_type": "markdown",
   "metadata": {}
  },
  {
   "cell_type": "code",
   "execution_count": 10,
   "metadata": {},
   "outputs": [
    {
     "output_type": "stream",
     "name": "stdout",
     "text": [
      "E(x) = 2.0\nV(x) = 4.0\ns(x) = 2.0\n"
     ]
    }
   ],
   "source": [
    "import math\n",
    "\n",
    "print(\"E(x) = \" + str(1/delta))\n",
    "print(\"V(x) = \" + str(1/(delta**2)))\n",
    "print(\"s(x) = \" + str(math.sqrt(1/(delta**2))))"
   ]
  }
 ]
}
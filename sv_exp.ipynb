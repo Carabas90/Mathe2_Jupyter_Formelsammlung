{
 "cells": [
  {
   "cell_type": "markdown",
   "metadata": {},
   "source": [
    "# Exponentialverteilung\n"
   ]
  },
  {
   "cell_type": "code",
   "execution_count": 1,
   "metadata": {},
   "outputs": [],
   "source": [
    "delta = 1/8"
   ]
  },
  {
   "cell_type": "markdown",
   "metadata": {},
   "source": [
    "## Verteilungsfunktion und Dichtefunktion"
   ]
  },
  {
   "cell_type": "code",
   "execution_count": 2,
   "metadata": {},
   "outputs": [
    {
     "name": "stdout",
     "output_type": "stream",
     "text": [
      "Für x >= 0 gilt: \n",
      "f(x) = 5* e ^ -5x\n",
      "F(x) = 1 -  e ^ -5x\n"
     ]
    }
   ],
   "source": [
    "print(\"Für x >= 0 gilt: \")\n",
    "print(\"f(x) = \" + str(delta) + \"* e ^ -\" + str(delta) +\"x\")\n",
    "print(\"F(x) = 1 - \" +  \" e ^ -\" + str(delta) +\"x\")"
   ]
  },
  {
   "cell_type": "markdown",
   "metadata": {},
   "source": [
    "## Erwartungswert und Varianz"
   ]
  },
  {
   "cell_type": "code",
   "execution_count": 3,
   "metadata": {},
   "outputs": [
    {
     "name": "stdout",
     "output_type": "stream",
     "text": [
      "E(x) = 0.2\n",
      "V(x) = 0.04\n",
      "s(x) = 0.2\n"
     ]
    }
   ],
   "source": [
    "import math\n",
    "\n",
    "print(\"E(x) = \" + str(1/delta))\n",
    "print(\"V(x) = \" + str(1/(delta**2)))\n",
    "print(\"s(x) = \" + str(math.sqrt(1/(delta**2))))"
   ]
  }
 ],
 "metadata": {
  "interpreter": {
   "hash": "3f75a622fdbe68ac4774c6ea619d86cc770141a8bef94a85fce2870eb7cb09bf"
  },
  "kernelspec": {
   "display_name": "Python 3.9.4 64-bit",
   "name": "python3"
  },
  "language_info": {
   "name": "python",
   "version": ""
  },
  "orig_nbformat": 2
 },
 "nbformat": 4,
 "nbformat_minor": 2
}
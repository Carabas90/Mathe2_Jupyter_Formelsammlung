{
 "metadata": {
  "language_info": {
   "codemirror_mode": {
    "name": "ipython",
    "version": 3
   },
   "file_extension": ".py",
   "mimetype": "text/x-python",
   "name": "python",
   "nbconvert_exporter": "python",
   "pygments_lexer": "ipython3",
   "version": "3.9.4"
  },
  "orig_nbformat": 2,
  "kernelspec": {
   "name": "python394jvsc74a57bd03f75a622fdbe68ac4774c6ea619d86cc770141a8bef94a85fce2870eb7cb09bf",
   "display_name": "Python 3.9.4 64-bit"
  }
 },
 "nbformat": 4,
 "nbformat_minor": 2,
 "cells": [
  {
   "source": [
    "# Geometrische Verteilung\n",
    "\n",
    "Wie viele Versuche bis etwas passiert"
   ],
   "cell_type": "markdown",
   "metadata": {}
  },
  {
   "cell_type": "code",
   "execution_count": 1,
   "metadata": {},
   "outputs": [],
   "source": [
    "prob = 0.7\n",
    "anzahl = 5"
   ]
  },
  {
   "source": [
    "## Wahrscheinlichkeiten"
   ],
   "cell_type": "markdown",
   "metadata": {}
  },
  {
   "cell_type": "code",
   "execution_count": 2,
   "metadata": {},
   "outputs": [
    {
     "output_type": "stream",
     "name": "stdout",
     "text": [
      "P(X = 5) = 0.005670000000000003\nP(X < 5) = 0.9919\nP(X > 5) = 0.0024300000000000432\nP(X <= 5) = 0.99757\nP(X >= 5) = 0.008099999999999996\n"
     ]
    }
   ],
   "source": [
    "def gleich(p, x):\n",
    "    return(p * (1-p)**(x-1)) \n",
    "\n",
    "def kleiner(p, x):\n",
    "    return(1-(1-p)**(x-1))\n",
    "\n",
    "print(\"P(X = \" + str(anzahl) + \") = \" + str(gleich(prob, anzahl)))\n",
    "print(\"P(X < \" + str(anzahl) + \") = \" + str(kleiner(prob, anzahl)))\n",
    "print(\"P(X > \" + str(anzahl) + \") = \" + str(1 - kleiner(prob, (anzahl+1))))\n",
    "print(\"P(X <= \" + str(anzahl) + \") = \" + str(kleiner(prob, (anzahl+1))))\n",
    "print(\"P(X >= \" + str(anzahl) + \") = \" + str((1 - kleiner(prob, anzahl))))"
   ]
  },
  {
   "source": [
    "## Erwartungswert und Varianz"
   ],
   "cell_type": "markdown",
   "metadata": {}
  },
  {
   "cell_type": "code",
   "execution_count": 3,
   "metadata": {},
   "outputs": [
    {
     "output_type": "stream",
     "name": "stdout",
     "text": [
      "E(X) = 1.4285714285714286\nV(X) = 0.6122448979591838\n"
     ]
    }
   ],
   "source": [
    "print(\"E(X) = \" + str(1/prob))\n",
    "print(\"V(X) = \" + str((1-prob)/(prob**2)))"
   ]
  }
 ]
}
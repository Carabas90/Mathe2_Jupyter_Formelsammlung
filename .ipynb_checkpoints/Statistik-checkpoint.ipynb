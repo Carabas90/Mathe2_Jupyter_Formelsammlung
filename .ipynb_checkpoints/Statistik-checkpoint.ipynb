{
 "cells": [
  {
   "cell_type": "markdown",
   "id": "12132c01-9ebe-4343-8698-ea43700fe1ea",
   "metadata": {},
   "source": [
    "# Statistik"
   ]
  },
  {
   "cell_type": "code",
   "execution_count": 72,
   "id": "8638a52c-a72b-4c6e-826b-83a21ecabd17",
   "metadata": {},
   "outputs": [],
   "source": [
    "data = [1,2,3,4,5,6,7,8,9,10,11,12,14,15,1]"
   ]
  },
  {
   "cell_type": "markdown",
   "id": "4ef5519b-81f2-4b82-98ea-ea23235ec6de",
   "metadata": {},
   "source": [
    "## Häufigkeiten"
   ]
  },
  {
   "cell_type": "code",
   "execution_count": 73,
   "id": "83da7588-2add-4d4d-9ef6-d4ac2ca84174",
   "metadata": {},
   "outputs": [
    {
     "name": "stdout",
     "output_type": "stream",
     "text": [
      "Wert    | Absolut  | Relativ   \n",
      "-------------------------------------------\n",
      "1       | 2        | 0.13333333333333333\n",
      "2       | 1        | 0.06666666666666667\n",
      "3       | 1        | 0.06666666666666667\n",
      "4       | 1        | 0.06666666666666667\n",
      "5       | 1        | 0.06666666666666667\n",
      "6       | 1        | 0.06666666666666667\n",
      "7       | 1        | 0.06666666666666667\n",
      "8       | 1        | 0.06666666666666667\n",
      "9       | 1        | 0.06666666666666667\n",
      "10       | 1        | 0.06666666666666667\n",
      "11       | 1        | 0.06666666666666667\n",
      "12       | 1        | 0.06666666666666667\n",
      "14       | 1        | 0.06666666666666667\n",
      "15       | 1        | 0.06666666666666667\n"
     ]
    }
   ],
   "source": [
    "def absolutes():\n",
    "    absolutes = {}\n",
    "    data.sort()\n",
    "    for item in data:\n",
    "        if item not in absolutes:\n",
    "            absolutes[item] = 1\n",
    "        else:\n",
    "            absolutes[item] += 1\n",
    "    return absolutes\n",
    "\n",
    "def relatives():\n",
    "    \"\"\"Berechnet die relativen Häufigkeiten von Werten in einer Liste. gibt ein Dictionary zurück.\"\"\"\n",
    "    a = absolutes()\n",
    "    relatives = {}\n",
    "    data.sort()\n",
    "    for item in a:\n",
    "        relatives[item] = a[item]/len(data)\n",
    "    return relatives\n",
    "\n",
    "\n",
    "print(\"Wert    | Absolut  | Relativ   \")\n",
    "print(\"-------------------------------------------\")\n",
    "\n",
    "a = absolutes()\n",
    "r = relatives()\n",
    "for key in a:\n",
    "    print(str(key) + \"       | \" + str(a[key]) + \"        | \" + str(r[key]))"
   ]
  },
  {
   "cell_type": "code",
   "execution_count": 74,
   "id": "d2830012-3ef6-47df-85fc-60598feda495",
   "metadata": {},
   "outputs": [],
   "source": [
    "%matplotlib inline"
   ]
  },
  {
   "cell_type": "code",
   "execution_count": 75,
   "id": "32dd8f45-983c-44af-96e4-e4e702d4a2b8",
   "metadata": {},
   "outputs": [
    {
     "data": {
      "image/png": "[encoded data removed]",
      "text/plain": [
       "<Figure size 432x288 with 1 Axes>"
      ]
     },
     "metadata": {
      "needs_background": "light"
     },
     "output_type": "display_data"
    }
   ],
   "source": [
    "import matplotlib.pyplot as plt\n",
    "\n",
    "a = absolutes()\n",
    "plt.bar(a.keys(), a.values())\n",
    "plt.show()"
   ]
  },
  {
   "cell_type": "code",
   "execution_count": 111,
   "id": "3a05cab8-552f-436e-8fdb-a36e64e55ce3",
   "metadata": {},
   "outputs": [
    {
     "data": {
      "image/png": "[encoded data removed]",
      "text/plain": [
       "<Figure size 432x288 with 1 Axes>"
      ]
     },
     "metadata": {
      "needs_background": "light"
     },
     "output_type": "display_data"
    }
   ],
   "source": [
    "import matplotlib.axes as ax\n",
    "\n",
    "r = relatives()\n",
    "k = [0]\n",
    "\n",
    "for key in r:\n",
    "    k.append(key)\n",
    "\n",
    "k.append(k[-1])\n",
    "\n",
    "cum = [0,0]\n",
    "c = 0\n",
    "for i in r.values():\n",
    "    c += i\n",
    "    cum.append(c)\n",
    "s = plt.step(k,cum)\n",
    "plt.grid(True)\n",
    "plt.ylim([0,1.1])\n",
    "plt.yticks([0.1,0.2,0.3,0.4,0.5,0.6,0.7,0.8,0.9,1])\n",
    "plt.show()"
   ]
  },
  {
   "cell_type": "markdown",
   "id": "768438c9-35b0-417c-8785-0c8499530f5d",
   "metadata": {},
   "source": [
    "### Arithmetisches Mittel"
   ]
  },
  {
   "cell_type": "code",
   "execution_count": 77,
   "id": "0fdbdbf2-b401-4fd7-844a-f051e2a4bfbf",
   "metadata": {},
   "outputs": [
    {
     "name": "stdout",
     "output_type": "stream",
     "text": [
      "Mittelwert = 7.2\n"
     ]
    }
   ],
   "source": [
    "import statistics\n",
    "print(\"Mittelwert = \"+  str(statistics.mean(data)))"
   ]
  },
  {
   "cell_type": "code",
   "execution_count": null,
   "id": "e9e63961-60ff-41b0-946b-61d67758c426",
   "metadata": {},
   "outputs": [],
   "source": []
  }
 ],
 "metadata": {
  "kernelspec": {
   "display_name": "Python 3",
   "language": "python",
   "name": "python3"
  },
  "language_info": {
   "codemirror_mode": {
    "name": "ipython",
    "version": 3
   },
   "file_extension": ".py",
   "mimetype": "text/x-python",
   "name": "python",
   "nbconvert_exporter": "python",
   "pygments_lexer": "ipython3",
   "version": "3.9.4"
  }
 },
 "nbformat": 4,
 "nbformat_minor": 5
}

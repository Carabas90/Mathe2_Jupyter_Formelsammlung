{
 "cells": [
  {
   "cell_type": "code",
   "execution_count": 2,
   "id": "88d4a042",
   "metadata": {},
   "outputs": [],
   "source": [
    "from sympy import*\n",
    "\n",
    "x= Symbol('x')\n"
   ]
  },
  {
   "cell_type": "code",
   "execution_count": 3,
   "id": "f6deac49",
   "metadata": {},
   "outputs": [],
   "source": [
    "funktion1= (1/4)*x-(3/2)\n",
    "untergrenze1 =6\n",
    "obergrenze1=8"
   ]
  },
  {
   "cell_type": "code",
   "execution_count": 4,
   "id": "6ab12d3f",
   "metadata": {},
   "outputs": [],
   "source": [
    "funktion2 = (5/2)-(1/4)*x\n",
    "untergrenze2 = 8\n",
    "obergrenze2=10"
   ]
  },
  {
   "cell_type": "code",
   "execution_count": 5,
   "id": "3310bc12",
   "metadata": {},
   "outputs": [],
   "source": [
    "funktion3 = None\n",
    "untergrenze3 = 8\n",
    "obergrenze3=10"
   ]
  },
  {
   "cell_type": "markdown",
   "id": "817784e5",
   "metadata": {},
   "source": [
    "# Aufleiten /Integrieren -> Verteilungsfunktion aus Dichtefunktion"
   ]
  },
  {
   "cell_type": "code",
   "execution_count": 6,
   "id": "d36f48c3",
   "metadata": {},
   "outputs": [
    {
     "output_type": "stream",
     "name": "stdout",
     "text": [
      "F(x) von Funktion1 = 0.125*x**2 - 1.5*x + 4.5\nF(x) von Funktion2 = -0.125*x**2 + 2.5*x - 12.0\n"
     ]
    }
   ],
   "source": [
    "if funktion2==None and funktion3==None:\n",
    "    Feins= integrate(funktion1,(x,untergrenze1, x))\n",
    "    print (\"F(x) von Funktion1 =\" , Feins)\n",
    "elif funktion3==None:\n",
    "    Feins= integrate(funktion1,(x,untergrenze1, x))\n",
    "    Fzwei= integrate(funktion2,(x,untergrenze2, x))\n",
    "    print(\"F(x) von Funktion1 =\" , Feins)\n",
    "    print(\"F(x) von Funktion2 =\" , Fzwei)\n",
    "else:\n",
    "    Feins= integrate(funktion1,(x,untergrenze1, x))\n",
    "    Fzwei= integrate(funktion2,(x,untergrenze2, x))\n",
    "    Fdrei= integrate(funktion3,(x,untergrenze3, x))\n",
    "    print(\" F(x) von Funktion1 =\" , Feins)\n",
    "    print(\" F(x) von Funktion2 =\" , Fzwei)\n",
    "    print(\" F(x) von Funktion2 =\" , Fdrei)\n"
   ]
  },
  {
   "cell_type": "markdown",
   "id": "97e8db72",
   "metadata": {},
   "source": [
    "# Ableiten -> Dichtefunktion aus Verteilungsfunktion"
   ]
  },
  {
   "cell_type": "code",
   "execution_count": 7,
   "id": "a4a3609a",
   "metadata": {},
   "outputs": [
    {
     "output_type": "stream",
     "name": "stdout",
     "text": [
      "f'(x) von Funktion1 = 0.250000000000000\nf'(x) von Funktion2 = -0.250000000000000\n"
     ]
    }
   ],
   "source": [
    "if funktion2==None and funktion3==None:\n",
    "    ableitung1= diff(funktion1)\n",
    "    print (\"f'(x) von Funktion1 =\" , ableitung1)\n",
    "elif funktion3==None:\n",
    "    ableitung1= diff(funktion1)\n",
    "    ableitung2= diff(funktion2)\n",
    "    print (\"f'(x) von Funktion1 =\" , ableitung1)\n",
    "    print(\"f'(x) von Funktion2 =\" , ableitung2)\n",
    "else:\n",
    "    ableitung1= diff(funktion1)\n",
    "    ableitung2= diff(funktion2)\n",
    "    ableitung3= diff(funktion3)\n",
    "    print(\"f'(x) von Funktion1 =\" , ableitung1)\n",
    "    print(\"f'(x) von Funktion2 =\" , ableitung2)\n",
    "    print(\"f'(x) von Funktion3 =\" , ableitung3)\n",
    "   "
   ]
  },
  {
   "cell_type": "markdown",
   "id": "0da10553",
   "metadata": {},
   "source": [
    "# Erwartungswert  integrate(x* ( f(x) ), (x,a,b))"
   ]
  },
  {
   "cell_type": "code",
   "execution_count": 8,
   "id": "d283b82d",
   "metadata": {},
   "outputs": [
    {
     "output_type": "stream",
     "name": "stdout",
     "text": [
      "Erwartungswert = 8.00000000000000\n"
     ]
    }
   ],
   "source": [
    "if funktion2==None and funktion3==None:\n",
    "    erwartungswert= integrate(x*(funktion1),(x,untergrenze1,obergrenze1))\n",
    "elif funktion3==None: \n",
    "    erwartungswert = integrate(x*(funktion1),(x,untergrenze1,obergrenze1))+  integrate(x* (funktion2),(x,untergrenze2,obergrenze2))\n",
    "else:\n",
    "    erwartungswert = integrate(x*(funktion1),(x,untergrenze1,obergrenze1))+  integrate(x* (funktion2),(x,untergrenze2,obergrenze2))+integrate(x*(funktion3),(x,untergrenze3,obergrenze3))\n",
    "\n",
    "print(\"Erwartungswert =\" , erwartungswert)\n"
   ]
  },
  {
   "cell_type": "markdown",
   "id": "5948059b",
   "metadata": {},
   "source": [
    "# Varianz"
   ]
  },
  {
   "cell_type": "code",
   "execution_count": 9,
   "id": "0b06304e",
   "metadata": {},
   "outputs": [
    {
     "output_type": "stream",
     "name": "stdout",
     "text": [
      "Varianz= 0.666666666666856\n"
     ]
    }
   ],
   "source": [
    "if funktion2==None and funktion3==None:\n",
    "    varianz= integrate((x-erwartungswert)**2*funktion1,(x,untergrenze1,obergrenze1))\n",
    "elif funktion3==None:   \n",
    "    varianz= integrate((x-erwartungswert)**2*funktion1,(x,untergrenze1,obergrenze1))+ integrate((x-erwartungswert)**2*funktion2,(x,untergrenze2,obergrenze2))\n",
    "else:\n",
    "    varianz= integrate((x-erwartungswert)**2*funktion1,(x,untergrenze1,obergrenze1))+ integrate((x-erwartungswert)**2*funktion2,(x,untergrenze2,obergrenze2))+integrate((x-erwartungswert)**2*funktion3,(x,untergrenze3,obergrenze3))\n",
    "\n",
    "print(\"Varianz=\",varianz)"
   ]
  },
  {
   "cell_type": "markdown",
   "id": "34d4c88a",
   "metadata": {},
   "source": [
    "# Standardabweichung"
   ]
  },
  {
   "cell_type": "code",
   "execution_count": 10,
   "id": "9a81f76b",
   "metadata": {},
   "outputs": [
    {
     "output_type": "stream",
     "name": "stdout",
     "text": [
      "0.816496580927842\n"
     ]
    }
   ],
   "source": [
    "print(sqrt(varianz))"
   ]
  }
 ],
 "metadata": {
  "kernelspec": {
   "name": "python3",
   "display_name": "Python 3.9.4 64-bit"
  },
  "language_info": {
   "codemirror_mode": {
    "name": "ipython",
    "version": 3
   },
   "file_extension": ".py",
   "mimetype": "text/x-python",
   "name": "python",
   "nbconvert_exporter": "python",
   "pygments_lexer": "ipython3",
   "version": "3.9.4"
  },
  "interpreter": {
   "hash": "3f75a622fdbe68ac4774c6ea619d86cc770141a8bef94a85fce2870eb7cb09bf"
  }
 },
 "nbformat": 4,
 "nbformat_minor": 5
}
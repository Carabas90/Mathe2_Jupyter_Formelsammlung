{
 "cells": [
  {
   "cell_type": "markdown",
   "metadata": {},
   "source": [
    "# Gleichverteilung"
   ]
  },
  {
   "cell_type": "code",
   "execution_count": 1,
   "metadata": {},
   "outputs": [],
   "source": [
    "a = 50\r\n",
    "b = 130"
   ]
  },
  {
   "cell_type": "markdown",
   "metadata": {},
   "source": [
    "## Dichtefunktion und Verteilungsfunktion"
   ]
  },
  {
   "cell_type": "code",
   "execution_count": 2,
   "metadata": {},
   "outputs": [
    {
     "name": "stdout",
     "output_type": "stream",
     "text": [
      "Im Bereich 50 < x < 130 gilt:\n",
      "f(x) = 0.0125\n",
      "F(x) = 0.0125x -  0.625\n"
     ]
    }
   ],
   "source": [
    "print(\"Im Bereich \" + str(a) + \" < x < \" + str(b) + \" gilt:\")\n",
    "print(\"f(x) = \" + str(1/(b-a)))\n",
    "print(\"F(x) = \" + str(1/(b-a)) + \"x -  \" + str((a/(b-a))))"
   ]
  },
  {
   "cell_type": "markdown",
   "metadata": {},
   "source": [
    "## Erwartungswert und Varianz"
   ]
  },
  {
   "cell_type": "code",
   "execution_count": 3,
   "metadata": {},
   "outputs": [
    {
     "name": "stdout",
     "output_type": "stream",
     "text": [
      "E(x) = 90.0\n",
      "V(x) = 533.3333333333334\n",
      "s(x) = 23.094010767585033\n"
     ]
    }
   ],
   "source": [
    "import math\n",
    "\n",
    "print(\"E(x) = \" + str((a+b)/2))\n",
    "print(\"V(x) = \" + str(((b-a)**2)/12))\n",
    "print(\"s(x) = \" + str(math.sqrt(((b-a)**2)/12)))"
   ]
  }
 ],
 "metadata": {
  "interpreter": {
   "hash": "3f75a622fdbe68ac4774c6ea619d86cc770141a8bef94a85fce2870eb7cb09bf"
  },
  "kernelspec": {
   "display_name": "Python 3.9.4 64-bit",
   "name": "python3"
  },
  "language_info": {
   "codemirror_mode": {
    "name": "ipython",
    "version": 3
   },
   "file_extension": ".py",
   "mimetype": "text/x-python",
   "name": "python",
   "nbconvert_exporter": "python",
   "pygments_lexer": "ipython3",
   "version": "3.9.4"
  },
  "orig_nbformat": 2
 },
 "nbformat": 4,
 "nbformat_minor": 2
}
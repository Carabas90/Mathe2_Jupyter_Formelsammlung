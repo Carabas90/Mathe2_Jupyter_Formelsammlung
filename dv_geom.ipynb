{
 "cells": [
  {
   "cell_type": "markdown",
   "metadata": {},
   "source": [
    "# Geometrische Verteilung\n",
    "\n",
    "Wie viele Versuche bis etwas passiert"
   ]
  },
  {
   "cell_type": "code",
   "execution_count": 1,
   "metadata": {},
   "outputs": [],
   "source": [
    "prob = 0.15\r\n",
    "anzahl = 3"
   ]
  },
  {
   "cell_type": "markdown",
   "metadata": {},
   "source": [
    "## Wahrscheinlichkeiten"
   ]
  },
  {
   "cell_type": "code",
   "execution_count": 2,
   "metadata": {},
   "outputs": [
    {
     "name": "stdout",
     "output_type": "stream",
     "text": [
      "P(X = 3) = 0.10837499999999999\n",
      "P(X < 3) = 0.2775000000000001\n",
      "P(X > 3) = 0.6141249999999999\n",
      "P(X <= 3) = 0.3858750000000001\n",
      "P(X >= 3) = 0.7224999999999999\n"
     ]
    }
   ],
   "source": [
    "def gleich(p, x):\n",
    "    return(p * (1-p)**(x-1)) \n",
    "\n",
    "def kleiner(p, x):\n",
    "    return(1-(1-p)**(x-1))\n",
    "\n",
    "print(\"P(X = \" + str(anzahl) + \") = \" + str(gleich(prob, anzahl)))\n",
    "print(\"P(X < \" + str(anzahl) + \") = \" + str(kleiner(prob, anzahl)))\n",
    "print(\"P(X > \" + str(anzahl) + \") = \" + str(1 - kleiner(prob, (anzahl+1))))\n",
    "print(\"P(X <= \" + str(anzahl) + \") = \" + str(kleiner(prob, (anzahl+1))))\n",
    "print(\"P(X >= \" + str(anzahl) + \") = \" + str((1 - kleiner(prob, anzahl))))"
   ]
  },
  {
   "cell_type": "markdown",
   "metadata": {},
   "source": [
    "## Erwartungswert und Varianz"
   ]
  },
  {
   "cell_type": "code",
   "execution_count": 3,
   "metadata": {},
   "outputs": [
    {
     "name": "stdout",
     "output_type": "stream",
     "text": [
      "E(X) = 6.666666666666667\n",
      "V(X) = 37.77777777777778\n"
     ]
    }
   ],
   "source": [
    "print(\"E(X) = \" + str(1/prob))\n",
    "print(\"V(X) = \" + str((1-prob)/(prob**2)))"
   ]
  }
 ],
 "metadata": {
  "interpreter": {
   "hash": "3f75a622fdbe68ac4774c6ea619d86cc770141a8bef94a85fce2870eb7cb09bf"
  },
  "kernelspec": {
   "display_name": "Python 3.9.4 64-bit",
   "name": "python3"
  },
  "language_info": {
   "codemirror_mode": {
    "name": "ipython",
    "version": 3
   },
   "file_extension": ".py",
   "mimetype": "text/x-python",
   "name": "python",
   "nbconvert_exporter": "python",
   "pygments_lexer": "ipython3",
   "version": "3.9.4"
  }
 },
 "nbformat": 4,
 "nbformat_minor": 4
}
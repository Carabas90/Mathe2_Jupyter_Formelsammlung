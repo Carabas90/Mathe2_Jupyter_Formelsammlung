{
 "cells": [
  {
   "cell_type": "markdown",
   "source": [
    "# Normalverteilung\n"
   ],
   "metadata": {}
  },
  {
   "cell_type": "code",
   "execution_count": 1,
   "source": [
    "import math\r\n",
    "e = 120\r\n",
    "sd = 20"
   ],
   "outputs": [],
   "metadata": {}
  },
  {
   "cell_type": "markdown",
   "source": [
    "## Wahrscheinlichkeiten\n"
   ],
   "metadata": {}
  },
  {
   "cell_type": "code",
   "execution_count": 5,
   "source": [
    "from scipy.stats import norm\r\n",
    "\r\n",
    "lower_limit = 100\r\n",
    "upper_limit = 140\r\n",
    "\r\n",
    "prob = norm(loc = e, scale= sd).cdf(upper_limit) - norm(loc = e, scale= sd).cdf(lower_limit)\r\n",
    "print(\"P( \" + str(lower_limit) + \" < x < \" + str(upper_limit) +\" ) = \" + str(prob))"
   ],
   "outputs": [
    {
     "output_type": "stream",
     "name": "stdout",
     "text": [
      "P( 100 < x < 140 ) = 0.6826894921370859\n"
     ]
    }
   ],
   "metadata": {}
  },
  {
   "cell_type": "markdown",
   "source": [
    "## Umgekehrte Rechnung"
   ],
   "metadata": {}
  },
  {
   "cell_type": "code",
   "execution_count": 8,
   "source": [
    "p = 0.95\r\n",
    "\r\n",
    "lim = norm(loc = e, scale= sd).ppf(p)\r\n",
    "\r\n",
    "print (str(p) + \" = P(x < \" + str(lim) + \" )\" )"
   ],
   "outputs": [
    {
     "output_type": "stream",
     "name": "stdout",
     "text": [
      "0.05 = P(x < 87.10292746097053 )\n"
     ]
    }
   ],
   "metadata": {}
  }
 ],
 "metadata": {
  "interpreter": {
   "hash": "3f75a622fdbe68ac4774c6ea619d86cc770141a8bef94a85fce2870eb7cb09bf"
  },
  "kernelspec": {
   "display_name": "Python 3.9.4 64-bit",
   "name": "python3"
  },
  "language_info": {
   "codemirror_mode": {
    "name": "ipython",
    "version": 3
   },
   "file_extension": ".py",
   "mimetype": "text/x-python",
   "name": "python",
   "nbconvert_exporter": "python",
   "pygments_lexer": "ipython3",
   "version": "3.9.4"
  },
  "orig_nbformat": 2
 },
 "nbformat": 4,
 "nbformat_minor": 2
}
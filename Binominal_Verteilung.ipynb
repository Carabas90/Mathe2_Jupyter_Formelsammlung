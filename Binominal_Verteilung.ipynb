{
 "metadata": {
  "language_info": {
   "codemirror_mode": {
    "name": "ipython",
    "version": 3
   },
   "file_extension": ".py",
   "mimetype": "text/x-python",
   "name": "python",
   "nbconvert_exporter": "python",
   "pygments_lexer": "ipython3",
   "version": "3.9.4"
  },
  "orig_nbformat": 2,
  "kernelspec": {
   "name": "python394jvsc74a57bd03f75a622fdbe68ac4774c6ea619d86cc770141a8bef94a85fce2870eb7cb09bf",
   "display_name": "Python 3.9.4 64-bit"
  }
 },
 "nbformat": 4,
 "nbformat_minor": 2,
 "cells": [
  {
   "source": [
    "# Binominal Verteilung"
   ],
   "cell_type": "markdown",
   "metadata": {}
  },
  {
   "cell_type": "code",
   "execution_count": 10,
   "metadata": {},
   "outputs": [],
   "source": [
    "prob = 0.25\n",
    "durchführungen = 10\n",
    "treffer = 2"
   ]
  },
  {
   "source": [
    "## Wahrscheinlichkeiten"
   ],
   "cell_type": "markdown",
   "metadata": {}
  },
  {
   "cell_type": "code",
   "execution_count": 11,
   "metadata": {},
   "outputs": [
    {
     "output_type": "stream",
     "name": "stdout",
     "text": [
      "P(X = 2) = 0.2815675735473633\nP(X < 2) = 0.24402523040771484\nP(X > 2) = 0.4744071960449219\nP(X <= 2) = 0.5255928039550781\nP(X >= 2) = 0.7559747695922852\n"
     ]
    }
   ],
   "source": [
    "import math\n",
    "\n",
    "def gleich(n, x, p):\n",
    "    return (math.comb(n, x) * (p)**x * (1-p)**(n-x))\n",
    "\n",
    "def kleiner(n,x,p):\n",
    "    s = 0\n",
    "    for k in range(x):\n",
    "        s += gleich(n, k, p)\n",
    "    return s\n",
    "\n",
    "print(\"P(X = \" + str(treffer) + \") = \" + str(gleich(durchführungen, treffer, prob)))\n",
    "print(\"P(X < \" + str(treffer) + \") = \" + str(kleiner(durchführungen, treffer, prob)))\n",
    "print(\"P(X > \" + str(treffer) + \") = \" + str(1 - kleiner(durchführungen, (treffer+1), prob)))\n",
    "print(\"P(X <= \" + str(treffer) + \") = \" + str(kleiner(durchführungen, (treffer+1), prob)))\n",
    "print(\"P(X >= \" + str(treffer) + \") = \" + str((1 - kleiner(durchführungen, treffer, prob))))"
   ]
  },
  {
   "source": [
    "## Varianz und Erwartungswert"
   ],
   "cell_type": "markdown",
   "metadata": {}
  },
  {
   "cell_type": "code",
   "execution_count": 13,
   "metadata": {},
   "outputs": [
    {
     "output_type": "stream",
     "name": "stdout",
     "text": [
      "E(X) = 2.5\nV(X) = 1.875\n"
     ]
    }
   ],
   "source": [
    "print(\"E(X) = \" + str(durchführungen*prob))\n",
    "print(\"V(X) = \" + str(durchführungen*prob*(1-prob)))"
   ]
  }
 ]
}
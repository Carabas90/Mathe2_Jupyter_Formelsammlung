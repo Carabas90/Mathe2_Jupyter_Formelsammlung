{
 "cells": [
  {
   "cell_type": "markdown",
   "metadata": {},
   "source": [
    "# Binominal Verteilung"
   ]
  },
  {
   "cell_type": "code",
   "execution_count": 1,
   "metadata": {},
   "outputs": [],
   "source": [
    "prob = 0.75\n",
    "durchführungen = 10\n",
    "treffer = 5"
   ]
  },
  {
   "cell_type": "markdown",
   "metadata": {},
   "source": [
    "## Wahrscheinlichkeiten"
   ]
  },
  {
   "cell_type": "code",
   "execution_count": 2,
   "metadata": {},
   "outputs": [
    {
     "output_type": "stream",
     "name": "stdout",
     "text": [
      "P(X = 5) = 0.058399200439453125\nP(X < 5) = 0.019727706909179688\nP(X > 5) = 0.9218730926513672\nP(X <= 5) = 0.07812690734863281\nP(X >= 5) = 0.9802722930908203\n"
     ]
    }
   ],
   "source": [
    "import math\n",
    "\n",
    "def gleich(n, x, p):\n",
    "    return (math.comb(n, x) * (p)**x * (1-p)**(n-x))\n",
    "\n",
    "def kleiner(n,x,p):\n",
    "    s = 0\n",
    "    for k in range(x):\n",
    "        s += gleich(n, k, p)\n",
    "    return s\n",
    "\n",
    "print(\"P(X = \" + str(treffer) + \") = \" + str(gleich(durchführungen, treffer, prob)))\n",
    "print(\"P(X < \" + str(treffer) + \") = \" + str(kleiner(durchführungen, treffer, prob)))\n",
    "print(\"P(X > \" + str(treffer) + \") = \" + str(1 - kleiner(durchführungen, (treffer+1), prob)))\n",
    "print(\"P(X <= \" + str(treffer) + \") = \" + str(kleiner(durchführungen, (treffer+1), prob)))\n",
    "print(\"P(X >= \" + str(treffer) + \") = \" + str((1 - kleiner(durchführungen, treffer, prob))))"
   ]
  },
  {
   "cell_type": "markdown",
   "metadata": {},
   "source": [
    "## Varianz und Erwartungswert"
   ]
  },
  {
   "cell_type": "code",
   "execution_count": 3,
   "metadata": {},
   "outputs": [
    {
     "output_type": "stream",
     "name": "stdout",
     "text": [
      "E(X) = 7.5\nV(X) = 1.875\n"
     ]
    }
   ],
   "source": [
    "print(\"E(X) = \" + str(durchführungen*prob))\n",
    "print(\"V(X) = \" + str(durchführungen*prob*(1-prob)))"
   ]
  }
 ],
 "metadata": {
  "kernelspec": {
   "name": "python394jvsc74a57bd03f75a622fdbe68ac4774c6ea619d86cc770141a8bef94a85fce2870eb7cb09bf",
   "display_name": "Python 3.9.4 64-bit"
  },
  "language_info": {
   "codemirror_mode": {
    "name": "ipython",
    "version": 3
   },
   "file_extension": ".py",
   "mimetype": "text/x-python",
   "name": "python",
   "nbconvert_exporter": "python",
   "pygments_lexer": "ipython3",
   "version": "3.9.4"
  }
 },
 "nbformat": 4,
 "nbformat_minor": 4
}
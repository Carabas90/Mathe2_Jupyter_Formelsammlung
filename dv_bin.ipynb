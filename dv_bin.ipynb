{
 "cells": [
  {
   "cell_type": "markdown",
   "source": [
    "# Binominal Verteilung"
   ],
   "metadata": {}
  },
  {
   "cell_type": "code",
   "execution_count": 19,
   "source": [
    "prob = 0.75\r\n",
    "durchführungen = 12\r\n",
    "treffer = 7"
   ],
   "outputs": [],
   "metadata": {}
  },
  {
   "cell_type": "markdown",
   "source": [
    "## Wahrscheinlichkeiten"
   ],
   "metadata": {}
  },
  {
   "cell_type": "code",
   "execution_count": 20,
   "source": [
    "import math\r\n",
    "\r\n",
    "def gleich(n, x, p):\r\n",
    "    return (math.comb(n, x) * (p)**x * (1-p)**(n-x))\r\n",
    "\r\n",
    "def kleiner(n,x,p):\r\n",
    "    s = 0\r\n",
    "    for k in range(x):\r\n",
    "        s += gleich(n, k, p)\r\n",
    "    return s\r\n",
    "\r\n",
    "print(\"P(X = \" + str(treffer) + \") = \" + str(gleich(durchführungen, treffer, prob)))\r\n",
    "print(\"P(X < \" + str(treffer) + \") = \" + str(kleiner(durchführungen, treffer, prob)))\r\n",
    "print(\"P(X > \" + str(treffer) + \") = \" + str(1 - kleiner(durchführungen, (treffer+1), prob)))\r\n",
    "print(\"P(X <= \" + str(treffer) + \") = \" + str(kleiner(durchführungen, (treffer+1), prob)))\r\n",
    "print(\"P(X >= \" + str(treffer) + \") = \" + str((1 - kleiner(durchführungen, treffer, prob))))"
   ],
   "outputs": [
    {
     "output_type": "stream",
     "name": "stdout",
     "text": [
      "P(X = 10) = 0.2322932481765747\n",
      "P(X < 10) = 0.6093249917030334\n",
      "P(X > 10) = 0.15838176012039185\n",
      "P(X <= 10) = 0.8416182398796082\n",
      "P(X >= 10) = 0.39067500829696655\n"
     ]
    }
   ],
   "metadata": {}
  },
  {
   "cell_type": "markdown",
   "source": [
    "## Varianz und Erwartungswert"
   ],
   "metadata": {}
  },
  {
   "cell_type": "code",
   "execution_count": 21,
   "source": [
    "print(\"E(X) = \" + str(durchführungen*prob))\r\n",
    "print(\"V(X) = \" + str(durchführungen*prob*(1-prob)))"
   ],
   "outputs": [
    {
     "output_type": "stream",
     "name": "stdout",
     "text": [
      "E(X) = 9.0\n",
      "V(X) = 2.25\n"
     ]
    }
   ],
   "metadata": {}
  }
 ],
 "metadata": {
  "interpreter": {
   "hash": "3f75a622fdbe68ac4774c6ea619d86cc770141a8bef94a85fce2870eb7cb09bf"
  },
  "kernelspec": {
   "display_name": "Python 3.9.4 64-bit",
   "name": "python3"
  },
  "language_info": {
   "codemirror_mode": {
    "name": "ipython",
    "version": 3
   },
   "file_extension": ".py",
   "mimetype": "text/x-python",
   "name": "python",
   "nbconvert_exporter": "python",
   "pygments_lexer": "ipython3",
   "version": "3.9.4"
  }
 },
 "nbformat": 4,
 "nbformat_minor": 4
}
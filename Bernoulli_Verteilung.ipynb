{
 "metadata": {
  "language_info": {
   "codemirror_mode": {
    "name": "ipython",
    "version": 3
   },
   "file_extension": ".py",
   "mimetype": "text/x-python",
   "name": "python",
   "nbconvert_exporter": "python",
   "pygments_lexer": "ipython3",
   "version": "3.9.5"
  },
  "orig_nbformat": 4,
  "kernelspec": {
   "name": "python3",
   "display_name": "Python 3.9.5 64-bit"
  },
  "interpreter": {
   "hash": "44b6e3ba0e37a6045c5dadac657ac966266b6841fbb4710d5f62047fad16140b"
  }
 },
 "nbformat": 4,
 "nbformat_minor": 2,
 "cells": [
  {
   "cell_type": "code",
   "execution_count": 56,
   "metadata": {},
   "outputs": [],
   "source": [
    "p= 0.6\n",
    "q= 1-p"
   ]
  },
  {
   "source": [
    "## Probability density function (Dichtefunktion pdf)"
   ],
   "cell_type": "markdown",
   "metadata": {}
  },
  {
   "source": [
    "### p(X=x)"
   ],
   "cell_type": "markdown",
   "metadata": {}
  },
  {
   "cell_type": "code",
   "execution_count": 57,
   "metadata": {},
   "outputs": [
    {
     "output_type": "stream",
     "name": "stdout",
     "text": [
      "pdf: p(X = 0.7) = 0\n"
     ]
    }
   ],
   "source": [
    "x= 0.7\n",
    "\n",
    "if x == 0:\n",
    "    erg = q\n",
    "elif x == 1:\n",
    "    erg = p\n",
    "else: erg = 0\n",
    "print(\"pdf: p(X = \"+ str( x )+ \") = \" + str(erg))"
   ]
  },
  {
   "source": [
    "## Cumulative distribution function (Verteilungsfunktion cdf)"
   ],
   "cell_type": "markdown",
   "metadata": {}
  },
  {
   "cell_type": "code",
   "execution_count": 58,
   "metadata": {},
   "outputs": [
    {
     "output_type": "stream",
     "name": "stdout",
     "text": [
      "cdf: p(X <= 0.7) = 0.4\n1-cdf: p(X >= 0.7) = 0.6\n"
     ]
    }
   ],
   "source": [
    "if x < 0:\n",
    "    erg = 0\n",
    "elif 0 <= x < 1:\n",
    "    erg = q\n",
    "else: erg= 1\n",
    "\n",
    "print(\"cdf: p(X <= \"+ str( x )+ \") = \" + str(erg))\n",
    "print(\"1-cdf: p(X >= \"+ str( x )+ \") = \" + str(1-erg))"
   ]
  },
  {
   "source": [
    "## Erwartungswert"
   ],
   "cell_type": "markdown",
   "metadata": {}
  },
  {
   "cell_type": "code",
   "execution_count": 59,
   "metadata": {},
   "outputs": [
    {
     "output_type": "stream",
     "name": "stdout",
     "text": [
      "Erwartungswert = 0.6\n"
     ]
    }
   ],
   "source": [
    "print(\"Erwartungswert = \" +  str(p))"
   ]
  },
  {
   "source": [
    "## Varianz"
   ],
   "cell_type": "markdown",
   "metadata": {}
  },
  {
   "cell_type": "code",
   "execution_count": 60,
   "metadata": {},
   "outputs": [
    {
     "output_type": "stream",
     "name": "stdout",
     "text": [
      "Varianz = 0.24\n"
     ]
    }
   ],
   "source": [
    "print(\"Varianz = \" +  str(p * q))"
   ]
  }
 ]
}
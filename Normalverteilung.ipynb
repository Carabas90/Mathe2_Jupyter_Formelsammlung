{
 "metadata": {
  "language_info": {
   "codemirror_mode": {
    "name": "ipython",
    "version": 3
   },
   "file_extension": ".py",
   "mimetype": "text/x-python",
   "name": "python",
   "nbconvert_exporter": "python",
   "pygments_lexer": "ipython3",
   "version": "3.9.4"
  },
  "orig_nbformat": 2,
  "kernelspec": {
   "name": "python394jvsc74a57bd03f75a622fdbe68ac4774c6ea619d86cc770141a8bef94a85fce2870eb7cb09bf",
   "display_name": "Python 3.9.4 64-bit"
  }
 },
 "nbformat": 4,
 "nbformat_minor": 2,
 "cells": [
  {
   "source": [
    "# Normalverteilung\n"
   ],
   "cell_type": "markdown",
   "metadata": {}
  },
  {
   "cell_type": "code",
   "execution_count": 45,
   "metadata": {},
   "outputs": [],
   "source": [
    "import math\n",
    "e = 100\n",
    "sd = 15"
   ]
  },
  {
   "source": [
    "## Wahrscheinlichkeiten\n"
   ],
   "cell_type": "markdown",
   "metadata": {}
  },
  {
   "cell_type": "code",
   "execution_count": 50,
   "metadata": {},
   "outputs": [
    {
     "output_type": "stream",
     "name": "stdout",
     "text": [
      "P( 70 < x < 130 ) = 0.9544997361036416\n"
     ]
    }
   ],
   "source": [
    "from scipy.stats import norm\n",
    "\n",
    "lower_limit = 70\n",
    "upper_limit = 130\n",
    "\n",
    "prob = norm(loc = e, scale= sd).cdf(upper_limit) - norm(loc = e, scale= sd).cdf(lower_limit)\n",
    "print(\"P( \" + str(lower_limit) + \" < x < \" + str(upper_limit) +\" ) = \" + str(prob))"
   ]
  },
  {
   "source": [
    "## Umgekehrte Rechnung"
   ],
   "cell_type": "markdown",
   "metadata": {}
  },
  {
   "cell_type": "code",
   "execution_count": 49,
   "metadata": {},
   "outputs": [
    {
     "output_type": "stream",
     "name": "stdout",
     "text": [
      "0.9 = P(x < 119.22327348316901 )\n"
     ]
    }
   ],
   "source": [
    "p = 0.9\n",
    "\n",
    "lim = norm(loc = e, scale= sd).ppf(p)\n",
    "\n",
    "print (str(p) + \" = P(x < \" + str(lim) + \" )\" )"
   ]
  }
 ]
}
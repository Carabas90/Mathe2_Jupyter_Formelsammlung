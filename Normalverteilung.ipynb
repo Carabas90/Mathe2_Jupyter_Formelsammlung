{
 "metadata": {
  "language_info": {
   "codemirror_mode": {
    "name": "ipython",
    "version": 3
   },
   "file_extension": ".py",
   "mimetype": "text/x-python",
   "name": "python",
   "nbconvert_exporter": "python",
   "pygments_lexer": "ipython3",
   "version": "3.9.4"
  },
  "orig_nbformat": 2,
  "kernelspec": {
   "name": "python394jvsc74a57bd03f75a622fdbe68ac4774c6ea619d86cc770141a8bef94a85fce2870eb7cb09bf",
   "display_name": "Python 3.9.4 64-bit"
  }
 },
 "nbformat": 4,
 "nbformat_minor": 2,
 "cells": [
  {
   "source": [
    "# Normalverteilung\n"
   ],
   "cell_type": "markdown",
   "metadata": {}
  },
  {
   "cell_type": "code",
   "execution_count": 10,
   "metadata": {},
   "outputs": [],
   "source": [
    "e = 200\n",
    "sd = 10"
   ]
  },
  {
   "source": [
    "## Wahrscheinlichkeiten\n"
   ],
   "cell_type": "markdown",
   "metadata": {}
  },
  {
   "cell_type": "code",
   "execution_count": 11,
   "metadata": {},
   "outputs": [
    {
     "output_type": "stream",
     "name": "stdout",
     "text": [
      "P( 156.4< x < 174.4 ) = 0.0052271050413548\n"
     ]
    }
   ],
   "source": [
    "from scipy.stats import norm\n",
    "\n",
    "lower_limit = 156.4\n",
    "upper_limit = 174.4\n",
    "\n",
    "prob = norm(loc = e, scale= sd).cdf(upper_limit) - norm(loc = e, scale= sd).cdf(lower_limit)\n",
    "print(\"P( \" + str(lower_limit) + \"< x < \" + str(upper_limit) +\" ) = \" + str(prob))"
   ]
  },
  {
   "source": [
    "## Umgekehrte Rechnung"
   ],
   "cell_type": "markdown",
   "metadata": {}
  },
  {
   "cell_type": "code",
   "execution_count": 12,
   "metadata": {},
   "outputs": [
    {
     "output_type": "stream",
     "name": "stdout",
     "text": [
      "0.98 = P(x < 220.53748910631822 )\n"
     ]
    }
   ],
   "source": [
    "p = 0.98\n",
    "\n",
    "lim = norm(loc = e, scale= sd).ppf(p)\n",
    "\n",
    "print (str(p) + \" = P(x < \" + str(lim) + \" )\" )"
   ]
  }
 ]
}
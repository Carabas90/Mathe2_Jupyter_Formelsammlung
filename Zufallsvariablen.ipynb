{
 "metadata": {
  "language_info": {
   "codemirror_mode": {
    "name": "ipython",
    "version": 3
   },
   "file_extension": ".py",
   "mimetype": "text/x-python",
   "name": "python",
   "nbconvert_exporter": "python",
   "pygments_lexer": "ipython3",
   "version": "3.9.4"
  },
  "orig_nbformat": 2,
  "kernelspec": {
   "name": "python394jvsc74a57bd03f75a622fdbe68ac4774c6ea619d86cc770141a8bef94a85fce2870eb7cb09bf",
   "display_name": "Python 3.9.4 64-bit"
  }
 },
 "nbformat": 4,
 "nbformat_minor": 2,
 "cells": [
  {
   "source": [
    "# Zufallsvariablen"
   ],
   "cell_type": "markdown",
   "metadata": {}
  },
  {
   "cell_type": "code",
   "execution_count": 22,
   "metadata": {},
   "outputs": [],
   "source": [
    "values = [1,2,3,4,5,6]\n",
    "probs = [1/6, 1/6, 1/6, 1/6, 1/6 , 1/6]"
   ]
  },
  {
   "source": [
    "## Verteilungsfunktion"
   ],
   "cell_type": "markdown",
   "metadata": {}
  },
  {
   "cell_type": "code",
   "execution_count": 23,
   "metadata": {},
   "outputs": [
    {
     "output_type": "stream",
     "name": "stdout",
     "text": [
      "P(x <= 1) = 0.16666666666666666\nP(x <= 2) = 0.3333333333333333\nP(x <= 3) = 0.5\nP(x <= 4) = 0.6666666666666666\nP(x <= 5) = 0.8333333333333333\nP(x <= 6) = 0.9999999999999999\n"
     ]
    }
   ],
   "source": [
    "for i in values:\n",
    "    p = 0\n",
    "    c = 0\n",
    "    while c <= values.index(i):\n",
    "        p += probs[c]\n",
    "        c += 1\n",
    "    print (\"P(x <= \" + str(i)+ \") = \" + str(p))"
   ]
  },
  {
   "source": [
    "## Erwartungswert"
   ],
   "cell_type": "markdown",
   "metadata": {}
  },
  {
   "cell_type": "code",
   "execution_count": 24,
   "metadata": {},
   "outputs": [
    {
     "output_type": "stream",
     "name": "stdout",
     "text": [
      "E(X) = 3.5\n"
     ]
    }
   ],
   "source": [
    "e = 0\n",
    "for i in range(len(values)):\n",
    "    e += values[i]*probs[i]\n",
    "\n",
    "print(\"E(X) = \" + str(e))"
   ]
  },
  {
   "source": [
    "## Varianz"
   ],
   "cell_type": "markdown",
   "metadata": {}
  },
  {
   "cell_type": "code",
   "execution_count": 25,
   "metadata": {},
   "outputs": [
    {
     "output_type": "stream",
     "name": "stdout",
     "text": [
      "Varianz = 17.5\n"
     ]
    }
   ],
   "source": [
    "v = 0\n",
    "for i in range(len(values)):\n",
    "    v += (values[i]-e)**2\n",
    "    \n",
    "print(\"Varianz = \"+ str(v))"
   ]
  }
 ]
}
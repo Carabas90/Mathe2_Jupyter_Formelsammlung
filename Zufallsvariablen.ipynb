{
 "cells": [
  {
   "cell_type": "markdown",
   "metadata": {},
   "source": [
    "# Zufallsvariablen"
   ]
  },
  {
   "cell_type": "code",
   "execution_count": 9,
   "metadata": {},
   "outputs": [],
   "source": [
    "values = [1,2,3,4,5,6]\n",
    "probs = [1/6, 1/6, 1/6, 1/6, 1/6 , 1/6]"
   ]
  },
  {
   "cell_type": "markdown",
   "metadata": {},
   "source": [
    "## Verteilungsfunktion"
   ]
  },
  {
   "cell_type": "code",
   "execution_count": 10,
   "metadata": {},
   "outputs": [
    {
     "name": "stdout",
     "output_type": "stream",
     "text": [
      "P(x <= 1) = 0.16666666666666666\n",
      "P(x <= 2) = 0.3333333333333333\n",
      "P(x <= 3) = 0.5\n",
      "P(x <= 4) = 0.6666666666666666\n",
      "P(x <= 5) = 0.8333333333333333\n",
      "P(x <= 6) = 0.9999999999999999\n"
     ]
    }
   ],
   "source": [
    "for i in values:\n",
    "    p = 0\n",
    "    c = 0\n",
    "    while c <= values.index(i):\n",
    "        p += probs[c]\n",
    "        c += 1\n",
    "    print (\"P(x <= \" + str(i)+ \") = \" + str(p))"
   ]
  },
  {
   "cell_type": "markdown",
   "metadata": {},
   "source": [
    "## Erwartungswert"
   ]
  },
  {
   "cell_type": "code",
   "execution_count": 11,
   "metadata": {},
   "outputs": [
    {
     "name": "stdout",
     "output_type": "stream",
     "text": [
      "E(X) = 3.5\n"
     ]
    }
   ],
   "source": [
    "e = 0\n",
    "for i in range(len(values)):\n",
    "    e += values[i]*probs[i]\n",
    "\n",
    "print(\"E(X) = \" + str(e))"
   ]
  },
  {
   "cell_type": "markdown",
   "metadata": {},
   "source": [
    "## Varianz"
   ]
  },
  {
   "cell_type": "code",
   "execution_count": 12,
   "metadata": {},
   "outputs": [
    {
     "name": "stdout",
     "output_type": "stream",
     "text": [
      "Varianz = 2.9166666666666665\n",
      "Standardabweichung = 1.707825127659933\n"
     ]
    }
   ],
   "source": [
    "import math\r\n",
    "\r\n",
    "v = 0\r\n",
    "for i in range(len(values)):\r\n",
    "    v += (values[i]-e)**2*probs[i]\r\n",
    "    \r\n",
    "print(\"Varianz = \"+ str(v))\r\n",
    "print(\"Standardabweichung = \" + str(math.sqrt(v)))"
   ]
  }
 ],
 "metadata": {
  "interpreter": {
   "hash": "3f75a622fdbe68ac4774c6ea619d86cc770141a8bef94a85fce2870eb7cb09bf"
  },
  "kernelspec": {
   "display_name": "Python 3.9.4 64-bit",
   "name": "python3"
  },
  "language_info": {
   "codemirror_mode": {
    "name": "ipython",
    "version": 3
   },
   "file_extension": ".py",
   "mimetype": "text/x-python",
   "name": "python",
   "nbconvert_exporter": "python",
   "pygments_lexer": "ipython3",
   "version": "3.9.4"
  }
 },
 "nbformat": 4,
 "nbformat_minor": 4
}
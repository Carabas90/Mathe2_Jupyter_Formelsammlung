{
 "metadata": {
  "language_info": {
   "codemirror_mode": {
    "name": "ipython",
    "version": 3
   },
   "file_extension": ".py",
   "mimetype": "text/x-python",
   "name": "python",
   "nbconvert_exporter": "python",
   "pygments_lexer": "ipython3",
   "version": "3.9.4"
  },
  "orig_nbformat": 2,
  "kernelspec": {
   "name": "python394jvsc74a57bd03f75a622fdbe68ac4774c6ea619d86cc770141a8bef94a85fce2870eb7cb09bf",
   "display_name": "Python 3.9.4 64-bit"
  }
 },
 "nbformat": 4,
 "nbformat_minor": 2,
 "cells": [
  {
   "source": [
    "# Gleichverteilung"
   ],
   "cell_type": "markdown",
   "metadata": {}
  },
  {
   "cell_type": "code",
   "execution_count": 1,
   "metadata": {},
   "outputs": [],
   "source": [
    "a = 5\n",
    "b = 25"
   ]
  },
  {
   "source": [
    "## Dichtefunktion und Verteilungsfunktion"
   ],
   "cell_type": "markdown",
   "metadata": {}
  },
  {
   "cell_type": "code",
   "execution_count": 2,
   "metadata": {},
   "outputs": [
    {
     "output_type": "stream",
     "name": "stdout",
     "text": [
      "Im Bereich 5 < x < 25 gilt:\nf(x) = 0.05\nF(x) = 0.05x -  0.25\n"
     ]
    }
   ],
   "source": [
    "print(\"Im Bereich \" + str(a) + \" < x < \" + str(b) + \" gilt:\")\n",
    "print(\"f(x) = \" + str(1/(b-a)))\n",
    "print(\"F(x) = \" + str(1/(b-a)) + \"x -  \" + str((a/(b-a))))"
   ]
  },
  {
   "source": [
    "## Erwartungswert und Varianz"
   ],
   "cell_type": "markdown",
   "metadata": {}
  },
  {
   "cell_type": "code",
   "execution_count": 3,
   "metadata": {},
   "outputs": [
    {
     "output_type": "stream",
     "name": "stdout",
     "text": [
      "E(x) = 15.0\nV(x) = 33.333333333333336\ns(x) = 5.773502691896258\n"
     ]
    }
   ],
   "source": [
    "import math\n",
    "\n",
    "print(\"E(x) = \" + str((a+b)/2))\n",
    "print(\"V(x) = \" + str(((b-a)**2)/12))\n",
    "print(\"s(x) = \" + str(math.sqrt(((b-a)**2)/12)))"
   ]
  }
 ]
}
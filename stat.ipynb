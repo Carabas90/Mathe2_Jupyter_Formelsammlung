{
 "cells": [
  {
   "cell_type": "markdown",
   "source": [
    "# Statistik"
   ],
   "metadata": {}
  },
  {
   "cell_type": "code",
   "execution_count": 1,
   "source": [
    "data = [3,4,23,14,21,27,19]"
   ],
   "outputs": [],
   "metadata": {}
  },
  {
   "cell_type": "markdown",
   "source": [
    "## Häufigkeiten"
   ],
   "metadata": {}
  },
  {
   "cell_type": "code",
   "execution_count": 2,
   "source": [
    "def absolutes():\r\n",
    "    absolutes = {}\r\n",
    "    data.sort()\r\n",
    "    for item in data:\r\n",
    "        if item not in absolutes:\r\n",
    "            absolutes[item] = 1\r\n",
    "        else:\r\n",
    "            absolutes[item] += 1\r\n",
    "    return absolutes\r\n",
    "\r\n",
    "def relatives():\r\n",
    "    \"\"\"Berechnet die relativen Häufigkeiten von Werten in einer Liste. gibt ein Dictionary zurück.\"\"\"\r\n",
    "    a = absolutes()\r\n",
    "    relatives = {}\r\n",
    "    data.sort()\r\n",
    "    for item in a:\r\n",
    "        relatives[item] = a[item]/len(data)\r\n",
    "    return relatives\r\n",
    "\r\n",
    "\r\n",
    "print(\"Wert    | Absolut  | Relativ   \")\r\n",
    "print(\"-------------------------------------------\")\r\n",
    "\r\n",
    "a = absolutes()\r\n",
    "r = relatives()\r\n",
    "for key in a:\r\n",
    "    print(str(key) + \"       | \" + str(a[key]) + \"        | \" + str(r[key]))"
   ],
   "outputs": [
    {
     "output_type": "stream",
     "name": "stdout",
     "text": [
      "Wert    | Absolut  | Relativ   \n",
      "-------------------------------------------\n",
      "3       | 1        | 0.14285714285714285\n",
      "4       | 1        | 0.14285714285714285\n",
      "14       | 1        | 0.14285714285714285\n",
      "19       | 1        | 0.14285714285714285\n",
      "21       | 1        | 0.14285714285714285\n",
      "23       | 1        | 0.14285714285714285\n",
      "27       | 1        | 0.14285714285714285\n"
     ]
    }
   ],
   "metadata": {}
  },
  {
   "cell_type": "code",
   "execution_count": 3,
   "source": [
    "%matplotlib inline"
   ],
   "outputs": [],
   "metadata": {}
  },
  {
   "cell_type": "code",
   "execution_count": 4,
   "source": [
    "import matplotlib.pyplot as plt\r\n",
    "\r\n",
    "a = absolutes()\r\n",
    "plt.bar(a.keys(), a.values())\r\n",
    "plt.show()"
   ],
   "outputs": [
    {
     "output_type": "display_data",
     "data": {
      "text/plain": [
       "<Figure size 432x288 with 1 Axes>"
      ],
      "image/png": "[encoded data removed]"
     },
     "metadata": {
      "needs_background": "light"
     }
    }
   ],
   "metadata": {}
  },
  {
   "cell_type": "code",
   "execution_count": 5,
   "source": [
    "import matplotlib.axes as ax\r\n",
    "\r\n",
    "r = relatives()\r\n",
    "k = [0]\r\n",
    "\r\n",
    "for key in r:\r\n",
    "    k.append(key)\r\n",
    "\r\n",
    "k.append(k[-1])\r\n",
    "\r\n",
    "cum = [0,0]\r\n",
    "c = 0\r\n",
    "for i in r.values():\r\n",
    "    c += i\r\n",
    "    cum.append(c)\r\n",
    "s = plt.step(k,cum)\r\n",
    "plt.grid(True)\r\n",
    "plt.ylim([0,1.1])\r\n",
    "plt.yticks([0.1,0.2,0.3,0.4,0.5,0.6,0.7,0.8,0.9,1])\r\n",
    "plt.show()"
   ],
   "outputs": [
    {
     "output_type": "display_data",
     "data": {
      "text/plain": [
       "<Figure size 432x288 with 1 Axes>"
      ],
      "image/png": "[encoded data removed]"
     },
     "metadata": {
      "needs_background": "light"
     }
    }
   ],
   "metadata": {}
  },
  {
   "cell_type": "markdown",
   "source": [
    "## Kennzahlen"
   ],
   "metadata": {}
  },
  {
   "cell_type": "markdown",
   "source": [
    "### Arithmetisches Mittel"
   ],
   "metadata": {}
  },
  {
   "cell_type": "code",
   "execution_count": 6,
   "source": [
    "import statistics\r\n",
    "mean = statistics.mean(data)\r\n",
    "print(\"Mittelwert = \"+  str(mean))"
   ],
   "outputs": [
    {
     "output_type": "stream",
     "name": "stdout",
     "text": [
      "Mittelwert = 15.857142857142858\n"
     ]
    }
   ],
   "metadata": {}
  },
  {
   "cell_type": "markdown",
   "source": [
    "### Median"
   ],
   "metadata": {}
  },
  {
   "cell_type": "code",
   "execution_count": 7,
   "source": [
    "median = statistics.median(data)\r\n",
    "print(\"Median = \" + str(median))"
   ],
   "outputs": [
    {
     "output_type": "stream",
     "name": "stdout",
     "text": [
      "Median = 19\n"
     ]
    }
   ],
   "metadata": {}
  },
  {
   "cell_type": "markdown",
   "source": [
    "### Modalwert"
   ],
   "metadata": {}
  },
  {
   "cell_type": "code",
   "execution_count": 8,
   "source": [
    "a = absolutes()\r\n",
    "maxi = max(a.values())\r\n",
    "modal = []\r\n",
    "for key in a:\r\n",
    "    if a[key] == maxi:\r\n",
    "        modal.append(key)\r\n",
    "\r\n",
    "print(\"Modalwerte = \" + str(modal))    "
   ],
   "outputs": [
    {
     "output_type": "stream",
     "name": "stdout",
     "text": [
      "Modalwerte = [3, 4, 14, 19, 21, 23, 27]\n"
     ]
    }
   ],
   "metadata": {}
  },
  {
   "cell_type": "markdown",
   "source": [
    "### Quantile"
   ],
   "metadata": {}
  },
  {
   "cell_type": "code",
   "execution_count": 9,
   "source": [
    "import math\r\n",
    "\r\n",
    "p = 0.9\r\n",
    "\r\n",
    "def quantiles(x):\r\n",
    "    \"\"\"Berechnet das Quantil p in der Liste data. p muss zwischen 0 und 1 liegen.\"\"\"\r\n",
    "    data.sort()\r\n",
    "    np = len(data)*x\r\n",
    "    if np % 1 != 0:\r\n",
    "        return data[math.ceil(np)-1]\r\n",
    "    else:\r\n",
    "        return (0.5*(data[int(np)-1] + data[int(np)]))\r\n",
    "\r\n",
    "print(\"Quantil(\" + str(p) +\") = \" + str(quantiles(p)))"
   ],
   "outputs": [
    {
     "output_type": "stream",
     "name": "stdout",
     "text": [
      "Quantil(0.66) = 21\n"
     ]
    }
   ],
   "metadata": {}
  },
  {
   "cell_type": "markdown",
   "source": [
    "### Varianz und Standardabweichung"
   ],
   "metadata": {}
  },
  {
   "cell_type": "code",
   "execution_count": 10,
   "source": [
    "print(\"Varianz = \" + str(statistics.variance(data)))\r\n",
    "print(\"Standardabweichung = \" + str(math.sqrt(statistics.variance(data))))"
   ],
   "outputs": [
    {
     "output_type": "stream",
     "name": "stdout",
     "text": [
      "Varianz = 86.80952380952381\n",
      "Standardabweichung = 9.317162862670363\n"
     ]
    }
   ],
   "metadata": {}
  },
  {
   "cell_type": "markdown",
   "source": [
    "### Interquantilabstand und Spannweite"
   ],
   "metadata": {}
  },
  {
   "cell_type": "code",
   "execution_count": 11,
   "source": [
    "print(\"Interquantilabstand = \" + str(quantiles(0.75)-quantiles(0.25)))\n"
   ],
   "outputs": [
    {
     "output_type": "stream",
     "name": "stdout",
     "text": [
      "Interquantilabstand = 19\n"
     ]
    }
   ],
   "metadata": {}
  }
 ],
 "metadata": {
  "interpreter": {
   "hash": "3f75a622fdbe68ac4774c6ea619d86cc770141a8bef94a85fce2870eb7cb09bf"
  },
  "kernelspec": {
   "display_name": "Python 3.9.4 64-bit",
   "name": "python3"
  },
  "language_info": {
   "codemirror_mode": {
    "name": "ipython",
    "version": 3
   },
   "file_extension": ".py",
   "mimetype": "text/x-python",
   "name": "python",
   "nbconvert_exporter": "python",
   "pygments_lexer": "ipython3",
   "version": "3.9.4"
  }
 },
 "nbformat": 4,
 "nbformat_minor": 5
}
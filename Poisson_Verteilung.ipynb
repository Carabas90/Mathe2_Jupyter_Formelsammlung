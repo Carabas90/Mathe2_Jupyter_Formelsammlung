{
 "metadata": {
  "language_info": {
   "codemirror_mode": {
    "name": "ipython",
    "version": 3
   },
   "file_extension": ".py",
   "mimetype": "text/x-python",
   "name": "python",
   "nbconvert_exporter": "python",
   "pygments_lexer": "ipython3",
   "version": "3.9.4"
  },
  "orig_nbformat": 2,
  "kernelspec": {
   "name": "python394jvsc74a57bd03f75a622fdbe68ac4774c6ea619d86cc770141a8bef94a85fce2870eb7cb09bf",
   "display_name": "Python 3.9.4 64-bit"
  }
 },
 "nbformat": 4,
 "nbformat_minor": 2,
 "cells": [
  {
   "source": [
    "# Poisson Verteilung"
   ],
   "cell_type": "markdown",
   "metadata": {}
  },
  {
   "cell_type": "code",
   "execution_count": 9,
   "metadata": {},
   "outputs": [],
   "source": [
    "rate = 3.5\n",
    "anzahl = 1"
   ]
  },
  {
   "source": [
    "## Wahrscheinlichkeiten\n"
   ],
   "cell_type": "markdown",
   "metadata": {}
  },
  {
   "cell_type": "code",
   "execution_count": 10,
   "metadata": {},
   "outputs": [
    {
     "output_type": "stream",
     "name": "stdout",
     "text": [
      "P(X = 1) = 0.10569084197811478\nP(X < 1) = 0.030197383422318508\nP(X > 1) = 0.8641117745995668\nP(X <= 1) = 0.13588822540043327\nP(X >= 1) = 0.9698026165776815\n"
     ]
    }
   ],
   "source": [
    "import math\n",
    "\n",
    "def gleich(r, x):\n",
    "    return (((r**x)/(math.factorial(x)))*(math.e**(-1*r)))\n",
    "\n",
    "def kleiner(r,x):\n",
    "    s = 0\n",
    "    for i in range(x):\n",
    "        s += gleich(r, i)\n",
    "    return s\n",
    "\n",
    "print(\"P(X = \" + str(anzahl) + \") = \" + str(gleich(rate, anzahl)))\n",
    "print(\"P(X < \" + str(anzahl) + \") = \" + str(kleiner(rate, anzahl)))\n",
    "print(\"P(X > \" + str(anzahl) + \") = \" + str(1 - kleiner(rate, (anzahl+1))))\n",
    "print(\"P(X <= \" + str(anzahl) + \") = \" + str(kleiner(rate, (anzahl+1))))\n",
    "print(\"P(X >= \" + str(anzahl) + \") = \" + str((1 - kleiner(rate, anzahl))))\n"
   ]
  },
  {
   "source": [
    "## Erwartungswert und Varianz\n",
    "\n",
    "Erwartungswert und Varianz entsprechen der Rate"
   ],
   "cell_type": "markdown",
   "metadata": {}
  }
 ]
}
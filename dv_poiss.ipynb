{
 "cells": [
  {
   "cell_type": "markdown",
   "source": [
    "# Poisson Verteilung"
   ],
   "metadata": {}
  },
  {
   "cell_type": "code",
   "execution_count": 3,
   "source": [
    "rate = 6\r\n",
    "anzahl = 5"
   ],
   "outputs": [],
   "metadata": {}
  },
  {
   "cell_type": "markdown",
   "source": [
    "## Wahrscheinlichkeiten\n"
   ],
   "metadata": {}
  },
  {
   "cell_type": "code",
   "execution_count": 4,
   "source": [
    "import math\r\n",
    "\r\n",
    "def gleich(r, x):\r\n",
    "    return (((r**x)/(math.factorial(x)))*(math.e**(-1*r)))\r\n",
    "\r\n",
    "def kleiner(r,x):\r\n",
    "    s = 0\r\n",
    "    for i in range(x):\r\n",
    "        s += gleich(r, i)\r\n",
    "    return s\r\n",
    "\r\n",
    "print(\"P(X = \" + str(anzahl) + \") = \" + str(gleich(rate, anzahl)))\r\n",
    "print(\"P(X < \" + str(anzahl) + \") = \" + str(kleiner(rate, anzahl)))\r\n",
    "print(\"P(X > \" + str(anzahl) + \") = \" + str(1 - kleiner(rate, (anzahl+1))))\r\n",
    "print(\"P(X <= \" + str(anzahl) + \") = \" + str(kleiner(rate, (anzahl+1))))\r\n",
    "print(\"P(X >= \" + str(anzahl) + \") = \" + str((1 - kleiner(rate, anzahl))))\r\n"
   ],
   "outputs": [
    {
     "output_type": "stream",
     "name": "stdout",
     "text": [
      "P(X = 7) = 0.1376769780411258\n",
      "P(X < 7) = 0.6063027824125915\n",
      "P(X > 7) = 0.2560202395462827\n",
      "P(X <= 7) = 0.7439797604537173\n",
      "P(X >= 7) = 0.3936972175874085\n"
     ]
    }
   ],
   "metadata": {}
  },
  {
   "cell_type": "markdown",
   "source": [
    "## Erwartungswert und Varianz\n",
    "\n",
    "Erwartungswert und Varianz entsprechen der Rate"
   ],
   "metadata": {}
  }
 ],
 "metadata": {
  "interpreter": {
   "hash": "3f75a622fdbe68ac4774c6ea619d86cc770141a8bef94a85fce2870eb7cb09bf"
  },
  "kernelspec": {
   "display_name": "Python 3.9.4 64-bit",
   "name": "python3"
  },
  "language_info": {
   "codemirror_mode": {
    "name": "ipython",
    "version": 3
   },
   "file_extension": ".py",
   "mimetype": "text/x-python",
   "name": "python",
   "nbconvert_exporter": "python",
   "pygments_lexer": "ipython3",
   "version": "3.9.4"
  }
 },
 "nbformat": 4,
 "nbformat_minor": 4
}